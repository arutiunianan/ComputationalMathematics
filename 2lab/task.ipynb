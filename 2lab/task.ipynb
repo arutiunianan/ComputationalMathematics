{
 "cells": [
  {
   "cell_type": "code",
   "execution_count": 17,
   "id": "6168f9ec",
   "metadata": {},
   "outputs": [],
   "source": [
    "import numpy as np              # импорт бибилиотеки numpy\n",
    "import matplotlib.pyplot as plt # импорт модуля matplotlib.pyplot"
   ]
  },
  {
   "cell_type": "markdown",
   "id": "67478d8a",
   "metadata": {},
   "source": [
    "## Краевая задача"
   ]
  },
  {
   "cell_type": "markdown",
   "id": "d19b9cf8",
   "metadata": {},
   "source": [
    "### Методы съемки и квазилинеаризации\n",
    "Построить алгоритм метода пристрелки решения следующих задач:\n",
    "\n",
    "$\\begin{array}{ccl}\n",
    "y'' - x \\sqrt{y}= 0,    0 \\leq x \\leq 1 , \\\\\n",
    "y(0) = 0, y(1) = 2;  \\\\\n",
    "\\end{array}$"
   ]
  },
  {
   "cell_type": "markdown",
   "id": "88271698",
   "metadata": {},
   "source": [
    "### Метод съемки\n",
    "#### Разностная схема:\n",
    "$\\begin{array}{ccl}\n",
    "\\frac{y_{k+1} - 2y_k + y_{k-1}}{h^2} - kh\\sqrt{y_k} = 0, \\;\\; k = 1, 2, 3, ..., N-1 \\\\\n",
    "y_1 = y_0 + \\lambda_n\\cdot h \\\\\n",
    "y_0 = 0, \\lambda_0 = \\frac{ y(x_k) - y(0) }{ N \\cdot h } = \\frac{ 2 - 0 }{ N \\cdot h } \\\\\n",
    "\\end{array}$"
   ]
  },
  {
   "cell_type": "code",
   "execution_count": 13,
   "id": "96a27ae7",
   "metadata": {},
   "outputs": [
    {
     "name": "stdout",
     "output_type": "stream",
     "text": [
      "2.000817142359361\n"
     ]
    },
    {
     "data": {
      "image/png": "[encoded data removed]",
      "text/plain": [
       "<Figure size 432x288 with 1 Axes>"
      ]
     },
     "metadata": {
      "needs_background": "light"
     },
     "output_type": "display_data"
    }
   ],
   "source": [
    "def drawPlot(x, y, l, n):\n",
    "    plt.scatter(x, y, s = 1.5, label=f'$\\lambda_{{{n}}} = {l}$')\n",
    "    plt.xlabel(\"x\")\n",
    "    plt.ylabel(\"y\")\n",
    "    plt.legend()\n",
    "\n",
    "def solveDS(l, h, xk):\n",
    "    N = int(xk / h)\n",
    "    \n",
    "    y = np.zeros(N + 1)\n",
    "    x = np.zeros(N + 1)\n",
    "    \n",
    "    y[0] = 0\n",
    "    y[1] = y[0] + l * h\n",
    "\n",
    "    x[0] = 0 * h\n",
    "    x[1] = 1 * h\n",
    "    \n",
    "    for k in range(1, N):\n",
    "        y[k + 1] = np.sqrt(y[k]) * h * h * h * k + 2 * y[k] - y[k - 1]\n",
    "        x[k + 1] = x[k] + h\n",
    "    \n",
    "    return x, y\n",
    "\n",
    "def runShootingMethod(draw = True):\n",
    "    left = 0\n",
    "    right = 1\n",
    "    xk = right - left\n",
    "    h = 0.01\n",
    "\n",
    "    l =  (2 - 0) / xk\n",
    "\n",
    "    delta_max = 0.01\n",
    "    n_max = 1000\n",
    "\n",
    "    for n in range(n_max):\n",
    "        x, y = solveDS(l, h, xk)\n",
    "        if draw:\n",
    "            drawPlot(x, y, l, n)\n",
    "        # we expect y[-1] == 2\n",
    "        delta = y[-1] - 2\n",
    "        if abs(delta) < delta_max:\n",
    "            break\n",
    "        \n",
    "        if delta < 0:\n",
    "            left = l\n",
    "        else:\n",
    "            right = l\n",
    "\n",
    "        l = (right + left) / 2\n",
    "\n",
    "    return x, y, y[-1]\n",
    "\n",
    "x, y, y_end = runShootingMethod()\n",
    "print(y_end)"
   ]
  },
  {
   "cell_type": "markdown",
   "id": "2fa0d033",
   "metadata": {},
   "source": [
    "### Метод квазилинеаризации\n",
    "Линеаризация Ньютона:\n",
    "\n",
    "$\\begin{array}{ccl}\n",
    "f(y^{m+1}) = f(y^{m}) + \\frac{\\partial f}{\\partial y}(y^{m})\\cdot(y^{m+1} - y^{m}),\\;\\; где \\;\\;f(y^m) = x\\sqrt{y^m}  \\\\\n",
    "\\frac{\\partial f}{\\partial y}(y^{m}) = \\frac{x}{2\\sqrt{y^m}} \\\\\n",
    "\\end{array}$\n",
    "\n",
    "Разностная схема:\n",
    "\n",
    "$\\begin{array}{ccl}\n",
    "\\frac{y^{m+1}_{k+1} - 2y^{m+1}_k + y^{m+1}_{k-1}}{h^2} - x_k\\sqrt{y^{m+1}_k} = 0, \\;\\; k = 1, 2, 3, ..., N-1 \\\\\n",
    "\\end{array}$\n",
    "\n",
    "Объединение уравнений:\n",
    "\n",
    "$\\begin{array}{ccl}\n",
    "y^{m + 1}_0 = y(0) = 0 \\\\  \\\\\n",
    "\\frac{y^{m+1}_{k+1} - 2y^{m+1}_k + y^{m+1}_{k-1}}{h^2} - x_k\\sqrt{y^{m}_k} - \\frac{x_k}{2\\sqrt{y^m_k}} \\cdot(y^{m+1}_k - y^{m}_k) = 0, \\;\\; k = 1, 2, 3, ..., N-1 \\\\  \\\\\n",
    "y^{m + 1}_N = y(1) = 2 \\\\\n",
    "\\end{array}$"
   ]
  },
  {
   "cell_type": "code",
   "execution_count": 14,
   "id": "f926f42f",
   "metadata": {},
   "outputs": [
    {
     "name": "stdout",
     "output_type": "stream",
     "text": [
      "2.0\n"
     ]
    },
    {
     "data": {
      "image/png": "[encoded data removed]",
      "text/plain": [
       "<Figure size 432x288 with 1 Axes>"
      ]
     },
     "metadata": {
      "needs_background": "light"
     },
     "output_type": "display_data"
    }
   ],
   "source": [
    "def drawPlot(x, y, n):\n",
    "    plt.scatter(x, y, s = 1.5, label=f'n = {n}')\n",
    "    plt.xlabel(\"x\")\n",
    "    plt.ylabel(\"y\")\n",
    "    plt.legend()\n",
    "\n",
    "def solveQuasiLinear(y, h, xk):\n",
    "    N = int(xk / h) + 1\n",
    "    A = np.zeros((N, N))\n",
    "    for i in range(N):\n",
    "        for j in range(N):\n",
    "           \n",
    "            if i == 0:\n",
    "                if j == 0:\n",
    "                    A[i][j] = 1\n",
    "                else:\n",
    "                    A[i][j] = 0\n",
    "                continue\n",
    "            \n",
    "            if i == (N - 1):\n",
    "                if j == (N - 1):\n",
    "                    A[i][j] = 1\n",
    "                else:\n",
    "                    A[i][j] = 0\n",
    "                continue\n",
    "\n",
    "            if i == j: \n",
    "                A[i][j] = -2/(h * h) - (i * h) / (2 * np.sqrt(y[i]))\n",
    "            elif (i - 1) == j or (i + 1) == j: \n",
    "                A[i][j] = 1/(h * h)\n",
    "            else:\n",
    "                A[i][j] = 0\n",
    "\n",
    "    f = np.zeros(N)\n",
    "    f[0] = 0 \n",
    "    f[N - 1] = 2 \n",
    "    for i in range(1, N - 2):\n",
    "        f[i] = 1 / 2 * (i * h)  * np.sqrt(y[i])\n",
    "\n",
    "    x = np.zeros(N)\n",
    "    for i in range(N):\n",
    "        x[i] = i * h\n",
    "    \n",
    "    return x, np.linalg.solve(A, f)\n",
    "\n",
    "\n",
    "def runQuasiLinearMethod(draw = True):\n",
    "    xk = 1\n",
    "    h = 0.01\n",
    "    N = int(xk / h) + 1\n",
    "\n",
    "    delta_max = 0.01\n",
    "    n_max = 1000\n",
    "\n",
    "    y_curr = np.zeros(N)\n",
    "    y_prev = np.full(N, 1.5)\n",
    "    \n",
    "    for n in range(n_max):\n",
    "        x, y_curr = solveQuasiLinear(y_prev, h, xk)\n",
    "        if draw:\n",
    "            drawPlot(x, y_curr, n)\n",
    "\n",
    "        if np.max(np.abs(y_curr - y_prev)) < delta_max:\n",
    "            break\n",
    "\n",
    "        y_prev = y_curr\n",
    "\n",
    "    return x, y_curr, y_curr[-1]\n",
    "\n",
    "x, y, y_end = runQuasiLinearMethod()\n",
    "print(y_end)"
   ]
  },
  {
   "cell_type": "markdown",
   "id": "6c7d7bf6",
   "metadata": {},
   "source": [
    "### Сравнение методов"
   ]
  },
  {
   "cell_type": "code",
   "execution_count": 15,
   "id": "dbc5c1d4",
   "metadata": {},
   "outputs": [
    {
     "data": {
      "text/plain": [
       "0.0008171423593608118"
      ]
     },
     "execution_count": 15,
     "metadata": {},
     "output_type": "execute_result"
    },
    {
     "data": {
      "image/png": "[encoded data removed]",
      "text/plain": [
       "<Figure size 432x288 with 1 Axes>"
      ]
     },
     "metadata": {
      "needs_background": "light"
     },
     "output_type": "display_data"
    }
   ],
   "source": [
    "x_shoot, y_shoot, y_end_shoot = runShootingMethod(False)\n",
    "x_quasi, y_quasi, y_end_quasi = runQuasiLinearMethod(False)\n",
    "\n",
    "plt.scatter(x_shoot, y_shoot, s = 1.5, label='Shooting method')\n",
    "plt.scatter(x_quasi, y_quasi, s = 1.5, label='Quasi-linearization method')\n",
    "plt.xlabel('x')\n",
    "plt.ylabel('y')\n",
    "plt.legend()\n",
    "\n",
    "np.max(np.abs(y_shoot - y_quasi))"
   ]
  },
  {
   "cell_type": "markdown",
   "id": "88a6e7f1",
   "metadata": {},
   "source": [
    "### Трехдиагональный метод"
   ]
  },
  {
   "cell_type": "markdown",
   "id": "77dd94a6",
   "metadata": {},
   "source": [
    "Для численного отыскания периодического с периодом единица решения уравнения\n",
    "\n",
    "$\\begin{array}{ccl}\n",
    "y'' - {P(x)}^{2}y = f(x),\\\\\n",
    "\\end{array}$\n",
    "где {P(x)}^{2} > 0 и f(x) - заданные периодические функции, используется разностная схема\n",
    "\n",
    "$\\begin{array}{ccl}\n",
    "\\frac{y_{1} - 2y_{0} + y_{N-1}}{h^2} - {P(0)}^{2}y_{0} = f(0), \\\\\n",
    "\\frac{y_{n+1} - 2y_{n} + y_{n-1}}{h^2} - {P(nh)}^{2}y_{n} = f(nh),   n = 1, 2, ..., N - 2, \\\\\n",
    "\\frac{y_{0} - 2y_{N-1} + y_{N-2}}{h^2} - {P(1-h)}^{2}y_{N-1} = f(1-h), \\\\ \n",
    "\\end{array}$\n",
    "\n",
    "где $\\begin{array}{ccl} Nh = 1.  \\end{array}$\n",
    "\n",
    "Вычислить решение при  $\\begin{array}{ccl} h = 0.005 \\end{array}$ в случае $\\begin{array}{ccl} P(x)^2 = 10 + sin2πx, f(x) = cos2πx \\end{array}$"
   ]
  },
  {
   "cell_type": "markdown",
   "id": "8c998287",
   "metadata": {},
   "source": [
    "Перепишем условия \n",
    "\n",
    "$\\begin{array}{ccl}\n",
    "{a}_{0}{y}_{N} - {b}_{0}{y}_{0} + {c}_{0}{y}_{1} = {φ}_{0},\\\\\n",
    "... \\\\\n",
    "{a}_{n}{y}_{n-1} - {b}_{n}{y}_{n} + {c}_{n}{y}_{n+1} = {φ}_{n},\\\\\n",
    "... \\\\\n",
    "{a}_{N}{y}_{N-1} - {b}_{N}{y}_{N} + {c}_{N}{y}_{0} = {φ}_{N},\\\\\n",
    "\\end{array}$\n",
    "\n",
    "где $\\begin{array}{ccl} {a}_{k} = 1 - 0.5{p}_{k}h, {b}_{k} = 2 - {q}_{k}{h}_{2}, {c}_{k} = 1 + 0.5{p}_{k}h, {φ}_{k} = {f}_{k}{h}^{2}. \\end{array}$"
   ]
  },
  {
   "cell_type": "markdown",
   "id": "f6362e6b",
   "metadata": {},
   "source": [
    "Расчитываем коэффициенты\n",
    "\n",
    "Из приведенного выше соотношения для $\\begin{array}{ccl} {y}_{0} \\end{array}$ сразу получаем, что $\\begin{array}{ccl} {α}_{1} = \\frac{{с}_{0}}{{b}_{0}}, {β}_{1} = -\\frac{{φ}_{0}}{{b}_{0}}, {γ}_{1} = \\frac{{a}_{0}}{{b}_{0}} \\end{array}$\n",
    "\n",
    "Теперь несложно получить рекуррентную зависимость для прогоночных коэффициентов:\n",
    "\n",
    "$\\begin{array}{ccl} {α}_{k+1} = \\frac{{с}_{k}}{{b}_{k}-{α}_{k}{a}_{k}}, {β}_{k+1} = -\\frac{{α}_{k}{b}_{k}-{φ}_{k}}{{b}_{k}-{α}_{k}{a}_{k}}, {γ}_{k+1} = \\frac{{a}_{k}{γ}_{k}}{{b}_{k}-{α}_{k}{a}_{k}} \\end{array}$"
   ]
  },
  {
   "cell_type": "code",
   "execution_count": 16,
   "id": "f613a34f",
   "metadata": {},
   "outputs": [
    {
     "data": {
      "image/png": "[encoded data removed]",
      "text/plain": [
       "<Figure size 720x432 with 1 Axes>"
      ]
     },
     "metadata": {
      "needs_background": "light"
     },
     "output_type": "display_data"
    }
   ],
   "source": [
    "h = 0.005\n",
    "p = lambda x: 0\n",
    "q = lambda x: -(10 + np.sin(2*np.pi*x))\n",
    "f = lambda x: np.cos(2*np.pi*x)\n",
    "\n",
    "def solveTridiagonal(pk, qk, fk, h):\n",
    "    N = len(fk)\n",
    "\n",
    "    a = 1 - 1/2 * pk * h\n",
    "    b = 2 - qk * h**2\n",
    "    c = 1 + 1/2 * pk * h\n",
    "    phi = fk * h**2\n",
    "\n",
    "    alpha = np.zeros(N)\n",
    "    beta = np.zeros(N)\n",
    "    gamma = np.zeros(N)\n",
    "\n",
    "    alpha[1] = c[0]/b[0]\n",
    "    beta[1] = -phi[0]/b[0]\n",
    "    gamma[1] = a[0]/b[0]\n",
    "\n",
    "    for k in range(1, N-1):\n",
    "        alpha[k+1] = c[k]/(b[k] - alpha[k]*a[k])\n",
    "        beta[k+1] = (a[k]*beta[k] - phi[k]) / (b[k] - alpha[k]/a[k])\n",
    "        gamma[k+1] = a[k]*gamma[k] / (b[k] - alpha[k]*a[k])\n",
    "\n",
    "    mu = np.ndarray(N)\n",
    "    nu = np.ndarray(N)\n",
    "\n",
    "    mu[N-1] = -c[N-1] / (a[N-1]*(alpha[N-1] + gamma[N-1]) - b[N-1])\n",
    "    nu[N-1] = (phi[N-1] - a[N-1]*beta[N-1]) / (a[N-1]*(alpha[N-1] + gamma[N-1]) - b[N-1])\n",
    "\n",
    "    for n in reversed(range(1, N)):\n",
    "        mu[n-1] = alpha[n]*mu[n] + gamma[n]*mu[N-1]\n",
    "        nu[n-1] = beta[n] + alpha[n]*nu[n] + gamma[n]*nu[N-1]\n",
    "\n",
    "    y = np.ndarray(N)\n",
    "\n",
    "    y[0] = nu[0] / (1 - mu[0])\n",
    "    y[N-1] = mu[N-1]*y[0] + nu[N-1]\n",
    "\n",
    "    for n in reversed(range(1, N)):\n",
    "        y[n-1] = alpha[n]*y[n] + beta[n] + gamma[n]*y[N-1]\n",
    "\n",
    "    return y\n",
    "\n",
    "def runTridiagonal(p, q, f, h):\n",
    "    T = 1.0\n",
    "    N = int(T/h + 1)\n",
    "    xk = np.array(np.linspace(0, 1, N))\n",
    "    assert (xk[1] - xk[0]) <= h\n",
    "\n",
    "    pk = np.array([p(x) for x in xk])\n",
    "    qk = np.array([q(x) for x in xk])\n",
    "    fk = np.array([f(x) for x in xk])\n",
    "\n",
    "    yk = solveTridiagonal(pk, qk, fk, h)\n",
    "\n",
    "    return xk, yk\n",
    "\n",
    "x, y = runTridiagonal(p, q, f, 0.005)\n",
    "\n",
    "n_periods = 2\n",
    "y = np.tile(y, n_periods)\n",
    "x = np.concatenate([x + i for i in range(0, n_periods)])\n",
    "\n",
    "plt.figure(figsize=(10, 6))\n",
    "plt.plot(x, y)\n",
    "plt.grid()"
   ]
  },
  {
   "cell_type": "code",
   "execution_count": null,
   "id": "752da423",
   "metadata": {},
   "outputs": [],
   "source": []
  },
  {
   "cell_type": "code",
   "execution_count": null,
   "id": "6431645d",
   "metadata": {},
   "outputs": [],
   "source": []
  }
 ],
 "metadata": {
  "kernelspec": {
   "display_name": "Python 3",
   "language": "python",
   "name": "python3"
  },
  "language_info": {
   "codemirror_mode": {
    "name": "ipython",
    "version": 3
   },
   "file_extension": ".py",
   "mimetype": "text/x-python",
   "name": "python",
   "nbconvert_exporter": "python",
   "pygments_lexer": "ipython3",
   "version": "3.8.8"
  }
 },
 "nbformat": 4,
 "nbformat_minor": 5
}
